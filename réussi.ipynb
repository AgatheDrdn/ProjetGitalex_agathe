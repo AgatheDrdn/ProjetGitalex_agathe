{
 "cells": [
  {
   "cell_type": "code",
   "execution_count": 1,
   "id": "bb202748",
   "metadata": {},
   "outputs": [],
   "source": [
    "import pandas as pd "
   ]
  },
  {
   "cell_type": "code",
   "execution_count": 3,
   "id": "f3ace112",
   "metadata": {},
   "outputs": [],
   "source": [
    "data= pd.read_csv('Ouvrir excel via python.csv', sep= ';')"
   ]
  },
  {
   "cell_type": "code",
   "execution_count": 4,
   "id": "ef897c6e",
   "metadata": {},
   "outputs": [
    {
     "data": {
      "text/html": [
       "<div>\n",
       "<style scoped>\n",
       "    .dataframe tbody tr th:only-of-type {\n",
       "        vertical-align: middle;\n",
       "    }\n",
       "\n",
       "    .dataframe tbody tr th {\n",
       "        vertical-align: top;\n",
       "    }\n",
       "\n",
       "    .dataframe thead th {\n",
       "        text-align: right;\n",
       "    }\n",
       "</style>\n",
       "<table border=\"1\" class=\"dataframe\">\n",
       "  <thead>\n",
       "    <tr style=\"text-align: right;\">\n",
       "      <th></th>\n",
       "      <th>Prénom</th>\n",
       "      <th>Âge</th>\n",
       "      <th>Voiture</th>\n",
       "      <th>Sexe</th>\n",
       "      <th>Loisirs</th>\n",
       "    </tr>\n",
       "  </thead>\n",
       "  <tbody>\n",
       "    <tr>\n",
       "      <th>0</th>\n",
       "      <td>Alice</td>\n",
       "      <td>28</td>\n",
       "      <td>Peurgeot</td>\n",
       "      <td>Féminin</td>\n",
       "      <td>Jouer au foot</td>\n",
       "    </tr>\n",
       "    <tr>\n",
       "      <th>1</th>\n",
       "      <td>Clément</td>\n",
       "      <td>26</td>\n",
       "      <td>Mercedes</td>\n",
       "      <td>Masculin</td>\n",
       "      <td>Jardinage</td>\n",
       "    </tr>\n",
       "    <tr>\n",
       "      <th>2</th>\n",
       "      <td>Mathieu</td>\n",
       "      <td>23</td>\n",
       "      <td>Dacia</td>\n",
       "      <td>NaN</td>\n",
       "      <td>équitation</td>\n",
       "    </tr>\n",
       "    <tr>\n",
       "      <th>3</th>\n",
       "      <td>Christophe</td>\n",
       "      <td>27</td>\n",
       "      <td>Clio</td>\n",
       "      <td>Masculin</td>\n",
       "      <td>Jeux vidéos</td>\n",
       "    </tr>\n",
       "    <tr>\n",
       "      <th>4</th>\n",
       "      <td>Sana</td>\n",
       "      <td>27</td>\n",
       "      <td>Chloé</td>\n",
       "      <td>NaN</td>\n",
       "      <td>Course de voiture</td>\n",
       "    </tr>\n",
       "    <tr>\n",
       "      <th>5</th>\n",
       "      <td>Patrice</td>\n",
       "      <td>20</td>\n",
       "      <td>NaN</td>\n",
       "      <td>Masculin</td>\n",
       "      <td>NaN</td>\n",
       "    </tr>\n",
       "    <tr>\n",
       "      <th>6</th>\n",
       "      <td>kylian</td>\n",
       "      <td>27</td>\n",
       "      <td>Subaru</td>\n",
       "      <td>Masculin</td>\n",
       "      <td>Gastronomie</td>\n",
       "    </tr>\n",
       "  </tbody>\n",
       "</table>\n",
       "</div>"
      ],
      "text/plain": [
       "       Prénom  Âge       Voiture          Sexe                Loisirs\n",
       "0       Alice   28      Peurgeot       Féminin          Jouer au foot\n",
       "1     Clément   26      Mercedes      Masculin              Jardinage\n",
       "2     Mathieu   23         Dacia           NaN             équitation\n",
       "3  Christophe   27          Clio      Masculin            Jeux vidéos\n",
       "4        Sana   27         Chloé           NaN      Course de voiture\n",
       "5     Patrice   20           NaN      Masculin                    NaN\n",
       "6      kylian   27        Subaru      Masculin            Gastronomie"
      ]
     },
     "execution_count": 4,
     "metadata": {},
     "output_type": "execute_result"
    }
   ],
   "source": [
    "data.head(10)"
   ]
  },
  {
   "cell_type": "code",
   "execution_count": 42,
   "id": "4ada556f",
   "metadata": {},
   "outputs": [
    {
     "data": {
      "text/plain": [
       "(7, 5)"
      ]
     },
     "execution_count": 42,
     "metadata": {},
     "output_type": "execute_result"
    }
   ],
   "source": [
    "data.shape #Donne le nombre de colonne et ligne"
   ]
  },
  {
   "cell_type": "code",
   "execution_count": 43,
   "id": "9b61c0f0",
   "metadata": {
    "collapsed": true
   },
   "outputs": [
    {
     "data": {
      "text/plain": [
       "<bound method DataFrame.info of        Prénom  Âge       Voiture          Sexe                Loisirs\n",
       "0       Alice   28      Peurgeot       Féminin          Jouer au foot\n",
       "1     Clément   26      Mercedes      Masculin              Jardinage\n",
       "2     Mathieu   23         Dacia           NaN             équitation\n",
       "3  Christophe   27          Clio      Masculin            Jeux vidéos\n",
       "4        Sana   27         Chloé           NaN      Course de voiture\n",
       "5     Patrice   20           NaN      Masculin                    NaN\n",
       "6      kylian   27        Subaru      Masculin            Gastronomie>"
      ]
     },
     "execution_count": 43,
     "metadata": {},
     "output_type": "execute_result"
    }
   ],
   "source": [
    "data.info #montre le tableau sous une autre forme"
   ]
  },
  {
   "cell_type": "code",
   "execution_count": 44,
   "id": "f1bbbd6c",
   "metadata": {
    "collapsed": true
   },
   "outputs": [
    {
     "data": {
      "text/plain": [
       "Prénom     0\n",
       "Âge        0\n",
       "Voiture    1\n",
       "Sexe       2\n",
       "Loisirs    1\n",
       "dtype: int64"
      ]
     },
     "execution_count": 44,
     "metadata": {},
     "output_type": "execute_result"
    }
   ],
   "source": [
    "data.isnull().sum() #donne le nombre de valeur null dans chaque colonne"
   ]
  },
  {
   "cell_type": "code",
   "execution_count": 46,
   "id": "c4d5484a",
   "metadata": {
    "collapsed": true
   },
   "outputs": [
    {
     "data": {
      "text/html": [
       "<style type=\"text/css\">\n",
       "#T_85464_row2_col3, #T_85464_row4_col3, #T_85464_row5_col2, #T_85464_row5_col4 {\n",
       "  background-color: red;\n",
       "}\n",
       "</style>\n",
       "<table id=\"T_85464\">\n",
       "  <thead>\n",
       "    <tr>\n",
       "      <th class=\"blank level0\" >&nbsp;</th>\n",
       "      <th id=\"T_85464_level0_col0\" class=\"col_heading level0 col0\" >Prénom</th>\n",
       "      <th id=\"T_85464_level0_col1\" class=\"col_heading level0 col1\" >Âge</th>\n",
       "      <th id=\"T_85464_level0_col2\" class=\"col_heading level0 col2\" >Voiture</th>\n",
       "      <th id=\"T_85464_level0_col3\" class=\"col_heading level0 col3\" >Sexe</th>\n",
       "      <th id=\"T_85464_level0_col4\" class=\"col_heading level0 col4\" >Loisirs</th>\n",
       "    </tr>\n",
       "  </thead>\n",
       "  <tbody>\n",
       "    <tr>\n",
       "      <th id=\"T_85464_level0_row0\" class=\"row_heading level0 row0\" >0</th>\n",
       "      <td id=\"T_85464_row0_col0\" class=\"data row0 col0\" >Alice</td>\n",
       "      <td id=\"T_85464_row0_col1\" class=\"data row0 col1\" >28</td>\n",
       "      <td id=\"T_85464_row0_col2\" class=\"data row0 col2\" >Peurgeot</td>\n",
       "      <td id=\"T_85464_row0_col3\" class=\"data row0 col3\" >Féminin</td>\n",
       "      <td id=\"T_85464_row0_col4\" class=\"data row0 col4\" >Jouer au foot</td>\n",
       "    </tr>\n",
       "    <tr>\n",
       "      <th id=\"T_85464_level0_row1\" class=\"row_heading level0 row1\" >1</th>\n",
       "      <td id=\"T_85464_row1_col0\" class=\"data row1 col0\" >Clément</td>\n",
       "      <td id=\"T_85464_row1_col1\" class=\"data row1 col1\" >26</td>\n",
       "      <td id=\"T_85464_row1_col2\" class=\"data row1 col2\" >    Mercedes</td>\n",
       "      <td id=\"T_85464_row1_col3\" class=\"data row1 col3\" >Masculin</td>\n",
       "      <td id=\"T_85464_row1_col4\" class=\"data row1 col4\" >    Jardinage</td>\n",
       "    </tr>\n",
       "    <tr>\n",
       "      <th id=\"T_85464_level0_row2\" class=\"row_heading level0 row2\" >2</th>\n",
       "      <td id=\"T_85464_row2_col0\" class=\"data row2 col0\" >Mathieu</td>\n",
       "      <td id=\"T_85464_row2_col1\" class=\"data row2 col1\" >23</td>\n",
       "      <td id=\"T_85464_row2_col2\" class=\"data row2 col2\" >Dacia</td>\n",
       "      <td id=\"T_85464_row2_col3\" class=\"data row2 col3\" >nan</td>\n",
       "      <td id=\"T_85464_row2_col4\" class=\"data row2 col4\" >    équitation</td>\n",
       "    </tr>\n",
       "    <tr>\n",
       "      <th id=\"T_85464_level0_row3\" class=\"row_heading level0 row3\" >3</th>\n",
       "      <td id=\"T_85464_row3_col0\" class=\"data row3 col0\" >Christophe</td>\n",
       "      <td id=\"T_85464_row3_col1\" class=\"data row3 col1\" >27</td>\n",
       "      <td id=\"T_85464_row3_col2\" class=\"data row3 col2\" >Clio</td>\n",
       "      <td id=\"T_85464_row3_col3\" class=\"data row3 col3\" >Masculin</td>\n",
       "      <td id=\"T_85464_row3_col4\" class=\"data row3 col4\" >Jeux vidéos</td>\n",
       "    </tr>\n",
       "    <tr>\n",
       "      <th id=\"T_85464_level0_row4\" class=\"row_heading level0 row4\" >4</th>\n",
       "      <td id=\"T_85464_row4_col0\" class=\"data row4 col0\" >Sana</td>\n",
       "      <td id=\"T_85464_row4_col1\" class=\"data row4 col1\" >27</td>\n",
       "      <td id=\"T_85464_row4_col2\" class=\"data row4 col2\" >   Chloé</td>\n",
       "      <td id=\"T_85464_row4_col3\" class=\"data row4 col3\" >nan</td>\n",
       "      <td id=\"T_85464_row4_col4\" class=\"data row4 col4\" >    Course de voiture</td>\n",
       "    </tr>\n",
       "    <tr>\n",
       "      <th id=\"T_85464_level0_row5\" class=\"row_heading level0 row5\" >5</th>\n",
       "      <td id=\"T_85464_row5_col0\" class=\"data row5 col0\" >Patrice</td>\n",
       "      <td id=\"T_85464_row5_col1\" class=\"data row5 col1\" >20</td>\n",
       "      <td id=\"T_85464_row5_col2\" class=\"data row5 col2\" >nan</td>\n",
       "      <td id=\"T_85464_row5_col3\" class=\"data row5 col3\" >    Masculin</td>\n",
       "      <td id=\"T_85464_row5_col4\" class=\"data row5 col4\" >nan</td>\n",
       "    </tr>\n",
       "    <tr>\n",
       "      <th id=\"T_85464_level0_row6\" class=\"row_heading level0 row6\" >6</th>\n",
       "      <td id=\"T_85464_row6_col0\" class=\"data row6 col0\" >kylian</td>\n",
       "      <td id=\"T_85464_row6_col1\" class=\"data row6 col1\" >27</td>\n",
       "      <td id=\"T_85464_row6_col2\" class=\"data row6 col2\" >Subaru</td>\n",
       "      <td id=\"T_85464_row6_col3\" class=\"data row6 col3\" >Masculin</td>\n",
       "      <td id=\"T_85464_row6_col4\" class=\"data row6 col4\" >Gastronomie</td>\n",
       "    </tr>\n",
       "  </tbody>\n",
       "</table>\n"
      ],
      "text/plain": [
       "<pandas.io.formats.style.Styler at 0x7feff7ff4940>"
      ]
     },
     "execution_count": 46,
     "metadata": {},
     "output_type": "execute_result"
    }
   ],
   "source": [
    "data.style.highlight_null(null_color='red')"
   ]
  },
  {
   "cell_type": "code",
   "execution_count": 47,
   "id": "830d5d96",
   "metadata": {
    "scrolled": true
   },
   "outputs": [
    {
     "data": {
      "text/html": [
       "<div>\n",
       "<style scoped>\n",
       "    .dataframe tbody tr th:only-of-type {\n",
       "        vertical-align: middle;\n",
       "    }\n",
       "\n",
       "    .dataframe tbody tr th {\n",
       "        vertical-align: top;\n",
       "    }\n",
       "\n",
       "    .dataframe thead th {\n",
       "        text-align: right;\n",
       "    }\n",
       "</style>\n",
       "<table border=\"1\" class=\"dataframe\">\n",
       "  <thead>\n",
       "    <tr style=\"text-align: right;\">\n",
       "      <th></th>\n",
       "      <th>Prénom</th>\n",
       "      <th>Âge</th>\n",
       "      <th>Voiture</th>\n",
       "      <th>Sexe</th>\n",
       "      <th>Loisirs</th>\n",
       "    </tr>\n",
       "  </thead>\n",
       "  <tbody>\n",
       "    <tr>\n",
       "      <th>0</th>\n",
       "      <td>Alice</td>\n",
       "      <td>28</td>\n",
       "      <td>Peurgeot</td>\n",
       "      <td>Féminin</td>\n",
       "      <td>Jouer au foot</td>\n",
       "    </tr>\n",
       "    <tr>\n",
       "      <th>1</th>\n",
       "      <td>Clément</td>\n",
       "      <td>26</td>\n",
       "      <td>Mercedes</td>\n",
       "      <td>Masculin</td>\n",
       "      <td>Jardinage</td>\n",
       "    </tr>\n",
       "    <tr>\n",
       "      <th>3</th>\n",
       "      <td>Christophe</td>\n",
       "      <td>27</td>\n",
       "      <td>Clio</td>\n",
       "      <td>Masculin</td>\n",
       "      <td>Jeux vidéos</td>\n",
       "    </tr>\n",
       "    <tr>\n",
       "      <th>6</th>\n",
       "      <td>kylian</td>\n",
       "      <td>27</td>\n",
       "      <td>Subaru</td>\n",
       "      <td>Masculin</td>\n",
       "      <td>Gastronomie</td>\n",
       "    </tr>\n",
       "  </tbody>\n",
       "</table>\n",
       "</div>"
      ],
      "text/plain": [
       "       Prénom  Âge       Voiture      Sexe        Loisirs\n",
       "0       Alice   28      Peurgeot   Féminin  Jouer au foot\n",
       "1     Clément   26      Mercedes  Masculin      Jardinage\n",
       "3  Christophe   27          Clio  Masculin    Jeux vidéos\n",
       "6      kylian   27        Subaru  Masculin    Gastronomie"
      ]
     },
     "execution_count": 47,
     "metadata": {},
     "output_type": "execute_result"
    }
   ],
   "source": [
    "data.dropna()"
   ]
  }
 ],
 "metadata": {
  "kernelspec": {
   "display_name": "Python 3 (ipykernel)",
   "language": "python",
   "name": "python3"
  },
  "language_info": {
   "codemirror_mode": {
    "name": "ipython",
    "version": 3
   },
   "file_extension": ".py",
   "mimetype": "text/x-python",
   "name": "python",
   "nbconvert_exporter": "python",
   "pygments_lexer": "ipython3",
   "version": "3.9.12"
  }
 },
 "nbformat": 4,
 "nbformat_minor": 5
}
