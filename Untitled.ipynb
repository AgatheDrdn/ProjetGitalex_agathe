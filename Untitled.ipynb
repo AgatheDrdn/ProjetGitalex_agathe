{
 "cells": [
  {
   "cell_type": "code",
   "execution_count": 1,
   "metadata": {},
   "outputs": [
    {
     "data": {
      "text/plain": [
       "<bound method DataFrame.dropna of        Prénom  Âge   Voiture      Sexe        Loisirs\n",
       "0       Alice   28  Peurgeot   Féminin  Jouer au foot\n",
       "1     Clément   26  Mercedes  Masculin      Jardinage\n",
       "3  Christophe   27      Clio  Masculin    Jeux vidéos\n",
       "6      kylian   27    Subaru  Masculin    Gastronomie>"
      ]
     },
     "execution_count": 1,
     "metadata": {},
     "output_type": "execute_result"
    }
   ],
   "source": [
    "import pandas as pd\n",
    "df = pd.read_csv('test.csv', sep = \";\", skipinitialspace = True)\n",
    "# supprimer les lignes avec Nan\n",
    "index_with_nan = df.index[df.isnull().any(axis=1)]\n",
    "df.drop(index_with_nan,0, inplace=True)\n",
    "df.dropna\n",
    "# supprimer les espaces sur les noms des colonnes\n",
    "# ex : prix maison \n",
    "# prix_maison"
   ]
  },
  {
   "cell_type": "code",
   "execution_count": null,
   "metadata": {},
   "outputs": [],
   "source": []
  }
 ],
 "metadata": {
  "kernelspec": {
   "display_name": "Python 3",
   "language": "python",
   "name": "python3"
  },
  "language_info": {
   "codemirror_mode": {
    "name": "ipython",
    "version": 3
   },
   "file_extension": ".py",
   "mimetype": "text/x-python",
   "name": "python",
   "nbconvert_exporter": "python",
   "pygments_lexer": "ipython3",
   "version": "3.8.5"
  }
 },
 "nbformat": 4,
 "nbformat_minor": 4
}
